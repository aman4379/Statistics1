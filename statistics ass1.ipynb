{
 "cells": [
  {
   "cell_type": "markdown",
   "id": "accb5840-cefe-422a-b2a3-c422be33f6e7",
   "metadata": {},
   "source": [
    "Q1. What is Statistics?"
   ]
  },
  {
   "cell_type": "code",
   "execution_count": null,
   "id": "5a8f54dd-44e9-4111-bd2e-48290387bded",
   "metadata": {},
   "outputs": [],
   "source": [
    "Ans Statistics is simply defined as the study and manipulation of data.It is the discipline that \n",
    "    concerns the collection, organization, analysis, interpretation, and presentation of data."
   ]
  },
  {
   "cell_type": "markdown",
   "id": "2b1f841b-6393-43ce-905c-5899d8adfff5",
   "metadata": {},
   "source": [
    "Q2. Define the different types of statistics and give an example of when each type might be used."
   ]
  },
  {
   "cell_type": "code",
   "execution_count": null,
   "id": "9944a095-6e71-4474-a8a7-67eceec2baee",
   "metadata": {},
   "outputs": [],
   "source": [
    "Ans There are two kinds of Statistics, which are descriptive Statistics and inferential Statistics. In \n",
    "    descriptive Statistics, the Data or Collection Data are described in a summarized way, whereas in \n",
    "    inferential Statistics, we make use of it in order to explain the descriptive kind."
   ]
  },
  {
   "cell_type": "code",
   "execution_count": null,
   "id": "f041b5eb-80a6-40cb-9d5e-2c28a61ba010",
   "metadata": {},
   "outputs": [],
   "source": [
    "Q3. What are the different types of data and how do they differ from each other? Provide an example of\n",
    "each type of data."
   ]
  },
  {
   "cell_type": "code",
   "execution_count": null,
   "id": "e2d3c256-af93-4ed6-a6d3-f604377eef53",
   "metadata": {},
   "outputs": [],
   "source": [
    "Ans There are four types of data that professionals work with:\n",
    "    1. Nominal data\n",
    "    This type of qualitative data is descriptive. Accordingly, nominal data features information that \n",
    "    doesn't have quantitative values. Unlike numbers, you can't compare this type of data or order them. \n",
    "    Instead, it's common to group them into distinct categories. Here are some examples of nominal data:\n",
    "    eye colour: brown, black or blue\n",
    "    hair colour: black, brown, grey or blonde\n",
    "    marital status: single, married, divorced or widowed"
   ]
  },
  {
   "cell_type": "code",
   "execution_count": null,
   "id": "92a06658-fe09-43f7-a52f-1f13cf8c0cd4",
   "metadata": {},
   "outputs": [],
   "source": [
    "    2. Ordinal data\n",
    "    Ordinal data is another type of qualitative data. Unlike nominal data, the values in this \n",
    "    classification have a natural set order or scale. This means that some sets might have numerical \n",
    "    values and that you can order them because they've got a relative position to one another. Here are \n",
    "    some common examples of this type of data:\n",
    "        surveys that ask you to rate an experience on a scale of one to 10\n",
    "        letter grades for examination results, such as A, B, C and D\n",
    "        economic status, such as high, middle or low\n",
    "        education level, such as primary, secondary and tertiary"
   ]
  },
  {
   "cell_type": "code",
   "execution_count": null,
   "id": "0293bd83-265a-490e-bdf7-d57aab0c9aef",
   "metadata": {},
   "outputs": [],
   "source": [
    "    3. Discrete data\n",
    "    This is a type of quantitative data, which is information that has numerical values. Discrete data \n",
    "    generally only consists of fixed values, such as integers and whole numbers. Decimals can occur in \n",
    "    this category, for instance, if you're collecting data on the profits that a company earns. Impossible \n",
    "    or unrealistic values, such as a shoe size of 5.72, don't constitute discrete data. Here are some \n",
    "    examples of discrete data:\n",
    "    the total number of students in a class\n",
    "    the cost of a mobile phone\n",
    "    the total number of employees in an organisation"
   ]
  },
  {
   "cell_type": "code",
   "execution_count": null,
   "id": "e15ba487-3e93-4c05-a826-787536d8d8bc",
   "metadata": {},
   "outputs": [],
   "source": [
    "    4. Continuous data\n",
    "    Continuous data is the opposite of discrete data, featuring sequences that have the potential to go on \n",
    "    infinitely. You can divide this type of data into smaller pieces, and fractional numbers are common in \n",
    "    this category. Here are some examples of continuous data:\n",
    "        the height of a person\n",
    "        the weight of a ship\n",
    "        the temperature of a room\n",
    "        the speed of a vehicle\n",
    "        the time taken to complete a task"
   ]
  },
  {
   "cell_type": "markdown",
   "id": "9d951d17-5f68-489d-bd42-fe5fc7fdaeb4",
   "metadata": {},
   "source": [
    "Q4. Categorise the following datasets with respect to quantitative and qualitative data types:\n",
    "(i) Grading in exam: A+, A, B+, B, C+, C, D, E\n",
    "(ii) Colour of mangoes: yellow, green, orange, red\n",
    "(iii) Height data of a class: [178.9, 179, 179.5, 176, 177.2, 178.3, 175.8,...]\n",
    "(iv) Number of mangoes exported by a farm: [500, 600, 478, 672, ...]"
   ]
  },
  {
   "cell_type": "code",
   "execution_count": null,
   "id": "5225af68-0ad2-4d4b-9632-039c685fa387",
   "metadata": {},
   "outputs": [],
   "source": [
    "Ans (i) Qualitative\n",
    "    (ii)Qualitative\n",
    "    (iii)Quantitative\n",
    "    (iv)Quantitative"
   ]
  },
  {
   "cell_type": "markdown",
   "id": "60b72212-5fd6-405b-b1f6-c468287f998a",
   "metadata": {},
   "source": [
    "Q5. Explain the concept of levels of measurement and give an example of a variable for each level."
   ]
  },
  {
   "cell_type": "code",
   "execution_count": null,
   "id": "36eff1d3-d759-48e4-ad0d-df202d6b1a0c",
   "metadata": {},
   "outputs": [],
   "source": [
    "Ans Levels of measurement, also called scales of measurement,tell you how precisely variables are recorded.\n",
    "In scientific research, a variable is anything that can take on different values across your data set \n",
    "(e.g., height or test scores).\n",
    "There are 4 levels of measurement:\n",
    "Nominal: the data can only be categorized\n",
    "Ordinal: the data can be categorized and ranked\n",
    "Interval: the data can be categorized, ranked, and evenly spaced\n",
    "Ratio: the data can be categorized, ranked, evenly spaced, and has a natural zero."
   ]
  },
  {
   "cell_type": "markdown",
   "id": "9f1d2dcc-de63-4836-bde8-976dba16a0ac",
   "metadata": {},
   "source": [
    "Q6. Why is it important to understand the level of measurement when analyzing data? Provide an\n",
    "    example to illustrate your answer."
   ]
  },
  {
   "cell_type": "code",
   "execution_count": null,
   "id": "2993d0b2-5c48-487e-9d87-b85176a8a96a",
   "metadata": {},
   "outputs": [],
   "source": [
    "Ans Levels of measurement are important because they indicate the extent to which statisticians, marketing\n",
    "    analysts and financial analysts can use existing data. For instance, if you classify your data at the \n",
    "    ordinal level of measurement, you know that you can evaluate how items compare to each other based on\n",
    "    a specific hierarchy."
   ]
  },
  {
   "cell_type": "markdown",
   "id": "a9434a24-2775-4ded-93ba-b83359b5cda3",
   "metadata": {},
   "source": [
    "Q7. How nominal data type is different from ordinal data type."
   ]
  },
  {
   "cell_type": "code",
   "execution_count": null,
   "id": "2bccf8f2-c631-477b-b1b1-425fe282d390",
   "metadata": {},
   "outputs": [],
   "source": [
    "Ans The main differences between Nominal Data and Ordinal Data are: While Nominal Data is classified \n",
    "    without any intrinsic ordering or rank, Ordinal Data has some predetermined or natural order."
   ]
  },
  {
   "cell_type": "markdown",
   "id": "f7bfe1b6-7a84-4bf6-81b9-8da77ec035f8",
   "metadata": {},
   "source": [
    "Q8. Which type of plot can be used to display data in terms of range?"
   ]
  },
  {
   "cell_type": "code",
   "execution_count": null,
   "id": "a9a6ca04-141a-4ecf-a663-058b75b90ff9",
   "metadata": {},
   "outputs": [],
   "source": [
    "Ans A histogram represents the distribution of the values. This is why they are an effective method to \n",
    "    graph continuous variables. With histograms, you can figure out skewed or symmetric values, find the \n",
    "    most common values, and comprehend the range of values."
   ]
  },
  {
   "cell_type": "markdown",
   "id": "e37b95ac-1b86-4a60-a250-d3c03bccbb13",
   "metadata": {},
   "source": [
    "Q9. Describe the difference between descriptive and inferential statistics. Give an example of each\n",
    "type of statistics and explain how they are used."
   ]
  },
  {
   "cell_type": "code",
   "execution_count": null,
   "id": "31b253f3-dade-4e2f-90ea-495dc426a275",
   "metadata": {},
   "outputs": [],
   "source": [
    "Ans Descriptive statistics summarize and describe the main features of a dataset, while inferential \n",
    "    statistics use sample data to make predictions or draw conclusions about a population. Descriptive \n",
    "    statistics include central tendency and dispersion measures, while inferential statistics involve \n",
    "    hypothesis testing and estimation techniques."
   ]
  },
  {
   "cell_type": "markdown",
   "id": "7ad712cf-93a9-4ade-93ea-30251c6ac53b",
   "metadata": {},
   "source": [
    "Q10. What are some common measures of central tendency and variability used in statistics? Explain\n",
    "how each measure can be used to describe a dataset."
   ]
  },
  {
   "cell_type": "code",
   "execution_count": null,
   "id": "7b2aaac4-b0f1-4fe6-9819-6aa988695c1e",
   "metadata": {},
   "outputs": [],
   "source": [
    "Ans Measures of central tendency help you find the middle, or the average, of a dataset. The 3 most common \n",
    "    measures of central tendency are the mode, median, and mean.\n",
    "    Mode: the most frequent value.\n",
    "    Median: the middle number in an ordered dataset.\n",
    "    Mean: the sum of all values divided by the total number of values"
   ]
  }
 ],
 "metadata": {
  "kernelspec": {
   "display_name": "Python 3 (ipykernel)",
   "language": "python",
   "name": "python3"
  },
  "language_info": {
   "codemirror_mode": {
    "name": "ipython",
    "version": 3
   },
   "file_extension": ".py",
   "mimetype": "text/x-python",
   "name": "python",
   "nbconvert_exporter": "python",
   "pygments_lexer": "ipython3",
   "version": "3.10.8"
  }
 },
 "nbformat": 4,
 "nbformat_minor": 5
}
